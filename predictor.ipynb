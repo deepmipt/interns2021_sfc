{
 "cells": [
  {
   "cell_type": "code",
   "execution_count": 2,
   "metadata": {},
   "outputs": [],
   "source": [
    "from collections import defaultdict\n",
    "import json"
   ]
  },
  {
   "cell_type": "code",
   "execution_count": 12,
   "metadata": {},
   "outputs": [],
   "source": [
    "with open('res_cor.json') as data:\n",
    "    file = json.load(data)"
   ]
  },
  {
   "cell_type": "code",
   "execution_count": 13,
   "metadata": {},
   "outputs": [],
   "source": [
    "dialogues = [] \n",
    "for d in file[:2]:\n",
    "    samples = defaultdict(dict)\n",
    "    result = d['completions'][0]['result']\n",
    "    texts_without_labels = d['data']['text']\n",
    "    for sample in result:\n",
    "        speaker = texts_without_labels[int(sample['value']['start'])]['speaker']\n",
    "        samples[sample['id']]['speaker'] = speaker\n",
    "        samples[sample['id']]['text'] = sample['value']['text']\n",
    "        samples[sample['id']]['start'] = int(sample['value']['start'])\n",
    "        if 'paragraphlabels' in sample['value']:\n",
    "            samples[sample['id']]['paragraphlabels'] = sample['value']['paragraphlabels'][0]\n",
    "        if 'choices' in sample['value']:\n",
    "            samples[sample['id']]['choices'] = sample['value']['choices'][0]\n",
    "    \n",
    "    sorted_samples = sorted([(samples[sample_id]['start'], sample_id) for sample_id in samples])\n",
    "    texts = []\n",
    "    labels = []\n",
    "    speakers = []\n",
    "    for _, sample_id in sorted_samples:\n",
    "        if samples[sample_id]['text'] != 'PAUSE':\n",
    "            texts.append(str(samples[sample_id]['text']).replace('\\n', ''))\n",
    "            speakers.append(samples[sample_id]['speaker'])\n",
    "            paragraph_labels = samples[sample_id].get('paragraphlabels', '')\n",
    "            choices = samples[sample_id].get('choices', '')\n",
    "            labels.append(paragraph_labels + '.' + choices)\n",
    "    dialogues.append((texts, labels, speakers))"
   ]
  },
  {
   "cell_type": "code",
   "execution_count": 14,
   "metadata": {},
   "outputs": [],
   "source": [
    "train_labels = dialogues[1][1]\n",
    "test_labels = dialogues[0][1]"
   ]
  },
  {
   "cell_type": "code",
   "execution_count": 15,
   "metadata": {},
   "outputs": [],
   "source": [
    "class_dict = {}\n",
    "label_to_name = []\n",
    "i=0\n",
    "for el in set(train_labels+test_labels):\n",
    "    class_dict[el] = i\n",
    "    i = i+1\n",
    "    label_to_name.append(el)"
   ]
  },
  {
   "cell_type": "code",
   "execution_count": 16,
   "metadata": {},
   "outputs": [],
   "source": [
    "A = [[0]*len(class_dict) for _ in range(len(class_dict))]"
   ]
  },
  {
   "cell_type": "code",
   "execution_count": 17,
   "metadata": {},
   "outputs": [],
   "source": [
    "for label_sequence in (train_labels,test_labels):\n",
    "    for i,lbl in enumerate(label_sequence):\n",
    "        if i+1 < len(label_sequence):\n",
    "            num_class = class_dict[label_sequence[i]]\n",
    "            num_class2 = class_dict[label_sequence[i+1]]\n",
    "            A[num_class][num_class2] +=1"
   ]
  },
  {
   "cell_type": "code",
   "execution_count": 18,
   "metadata": {},
   "outputs": [],
   "source": [
    "for i in range(len(A)):\n",
    "    total_count=sum(A[i])\n",
    "    for j in range(len(A[i])):\n",
    "        A[i][j]/=max(total_count,1)"
   ]
  },
  {
   "cell_type": "code",
   "execution_count": 19,
   "metadata": {},
   "outputs": [],
   "source": [
    "def print_most_probable_labels(label_name):\n",
    "    class_id = class_dict[label_name]\n",
    "    sorted_lbls = sorted(enumerate(A[class_id]),reverse=True,key=lambda x: x[1])[:5]\n",
    "    for label, probability in sorted_lbls:\n",
    "        print(label_to_name[label],probability)"
   ]
  },
  {
   "cell_type": "code",
   "execution_count": 11,
   "metadata": {},
   "outputs": [
    {
     "name": "stdout",
     "output_type": "stream",
     "text": [
      "Open.Initiate.Demand.Open.Fact 0.3\n",
      "Open.Initiate.Give.Fact 0.2\n",
      "Open.Initiate.Give.Opinion 0.1\n",
      "React.Rejoinder.Confront.Challenge.Rebound 0.1\n",
      "Open.Initiate.Demand.Closed.Opinion 0.1\n"
     ]
    }
   ],
   "source": [
    "print_most_probable_labels('Open.Attend.')"
   ]
  },
  {
   "cell_type": "code",
   "execution_count": null,
   "metadata": {},
   "outputs": [],
   "source": []
  }
 ],
 "metadata": {
  "kernelspec": {
   "display_name": "Python 3",
   "language": "python",
   "name": "python3"
  },
  "language_info": {
   "codemirror_mode": {
    "name": "ipython",
    "version": 3
   },
   "file_extension": ".py",
   "mimetype": "text/x-python",
   "name": "python",
   "nbconvert_exporter": "python",
   "pygments_lexer": "ipython3",
   "version": "3.6.9"
  }
 },
 "nbformat": 4,
 "nbformat_minor": 2
}
